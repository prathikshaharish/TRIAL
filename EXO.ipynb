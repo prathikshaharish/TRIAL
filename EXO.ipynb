{
  "nbformat": 4,
  "nbformat_minor": 0,
  "metadata": {
    "colab": {
      "provenance": [],
      "authorship_tag": "ABX9TyOEBR6lUNS3AdV0aD+5gNGN",
      "include_colab_link": true
    },
    "kernelspec": {
      "name": "python3",
      "display_name": "Python 3"
    },
    "language_info": {
      "name": "python"
    }
  },
  "cells": [
    {
      "cell_type": "markdown",
      "metadata": {
        "id": "view-in-github",
        "colab_type": "text"
      },
      "source": [
        "<a href=\"https://colab.research.google.com/github/prathikshaharish/TRIAL/blob/main/EXO.ipynb\" target=\"_parent\"><img src=\"https://colab.research.google.com/assets/colab-badge.svg\" alt=\"Open In Colab\"/></a>"
      ]
    },
    {
      "cell_type": "code",
      "execution_count": null,
      "metadata": {
        "id": "GqAjVHp_isf-"
      },
      "outputs": [],
      "source": [
        "import pandas as pd\n",
        "from sklearn.model_selection import train_test_split\n",
        "from sklearn.linear_model import LogisticRegression\n",
        "from sklearn.metrics import classification_report\n"
      ]
    },
    {
      "cell_type": "code",
      "source": [],
      "metadata": {
        "id": "ddrJYiOCE-Ay"
      },
      "execution_count": null,
      "outputs": []
    },
    {
      "cell_type": "code",
      "source": [
        "# Load the dataset\n",
        "df = pd.read_csv('/content/DataSet_Exo-MP.csv')\n",
        "\n",
        "# Display the first few rows of the dataframe\n",
        "print(df.head())\n"
      ],
      "metadata": {
        "colab": {
          "base_uri": "https://localhost:8080/"
        },
        "id": "PAui1iRmof-D",
        "outputId": "1515d8d6-d0be-4dba-95d0-4332d885ad10"
      },
      "execution_count": null,
      "outputs": [
        {
          "output_type": "stream",
          "name": "stdout",
          "text": [
            "   Patient_ID       Name  Category   Age  Gender State of Mind  EMG Rest (µV)  \\\n",
            "0        33.0     Jhansi   No Pain  23.0  Female           Sad       0.500168   \n",
            "1        34.0     Khushi   No Pain  28.0  Female      Stressed       0.499261   \n",
            "2        35.0       Ritu   No Pain  31.0  Female          Calm       0.499858   \n",
            "3        36.0  Vaishnavi   No Pain  22.0  Female      Stressed       0.501058   \n",
            "4        39.0     Ritika   No Pain  26.0  Female      Carefree       0.497759   \n",
            "\n",
            "   EMG Flexion (µV)  EMG Extension (µV)  EEG Rest (µV)  EEG Flexion (µV)  \\\n",
            "0          0.999100            0.798152      49.974568         59.799639   \n",
            "1          1.002557            0.799467      50.048468         60.052983   \n",
            "2          1.001190            0.798370      50.239278         59.831383   \n",
            "3          1.001391            0.801820      49.894437         60.051373   \n",
            "4          0.998952            0.798205      50.034788         59.975779   \n",
            "\n",
            "   EEG Extension (µV)  Flexion Angle (degrees)  Extension Angle (degrees)  \\\n",
            "0           69.932694                    130.0                        0.0   \n",
            "1           69.966661                    130.0                        0.0   \n",
            "2           70.174522                    130.0                        0.0   \n",
            "3           69.903711                    130.0                        0.0   \n",
            "4           69.955123                    130.0                        0.0   \n",
            "\n",
            "   Time (s)  \n",
            "0  0.325424  \n",
            "1  0.335593  \n",
            "2  0.345763  \n",
            "3  0.355932  \n",
            "4  0.386441  \n"
          ]
        }
      ]
    },
    {
      "cell_type": "code",
      "source": [
        "def classify_row(row):\n",
        "    if ((row['EMG Rest (µV)'] >= 0.05 or row['EEG Rest (µV)'] >= 1.5) or\n",
        "        (row['EMG Extension (µV)'] >= 1.6 or row['EEG Extension (µV)'] >= 4.5) or\n",
        "        (row['EMG Flexion (µV)'] >= 1.25 or row['EEG Flexion (µV)'] >= 3.5)):\n",
        "        return 'Pain'\n",
        "    else:\n",
        "        return 'No Pain'\n",
        "\n",
        "# Apply the function to each row\n",
        "df['Pain Classification'] = df.apply(classify_row, axis=1)\n"
      ],
      "metadata": {
        "id": "7LW5Z7hCorpc"
      },
      "execution_count": null,
      "outputs": []
    },
    {
      "cell_type": "code",
      "source": [
        "from sklearn.impute import SimpleImputer\n",
        "from sklearn.linear_model import LogisticRegression\n",
        "from sklearn.model_selection import train_test_split\n",
        "from sklearn.pipeline import Pipeline\n",
        "from sklearn.compose import ColumnTransformer\n",
        "from sklearn.metrics import classification_report\n",
        "\n",
        "# Define features and target\n",
        "features = df[['EMG Rest (µV)', 'EMG Flexion (µV)', 'EMG Extension (µV)',\n",
        "               'EEG Rest (µV)', 'EEG Flexion (µV)', 'EEG Extension (µV)']]\n",
        "target = df['Pain Classification']\n",
        "\n",
        "# Split the dataset into training and testing sets\n",
        "X_train, X_test, y_train, y_test = train_test_split(features, target, test_size=0.3, random_state=42)\n",
        "\n",
        "# Define preprocessing steps\n",
        "preprocessor = ColumnTransformer(\n",
        "    transformers=[\n",
        "        ('imputer', SimpleImputer(strategy='mean'), ['EMG Rest (µV)', 'EMG Flexion (µV)', 'EMG Extension (µV)',\n",
        "                                                     'EEG Rest (µV)', 'EEG Flexion (µV)', 'EEG Extension (µV)'])\n",
        "    ])\n",
        "\n",
        "# Define the pipeline\n",
        "pipeline = Pipeline(steps=[\n",
        "    ('preprocessor', preprocessor),\n",
        "    ('classifier', LogisticRegression())\n",
        "])\n",
        "\n",
        "# Train the model\n",
        "pipeline.fit(X_train, y_train)\n",
        "\n",
        "# Predictions\n",
        "predictions = pipeline.predict(X_test)\n",
        "\n",
        "# Evaluate the model\n",
        "print(classification_report(y_test, predictions))\n"
      ],
      "metadata": {
        "colab": {
          "base_uri": "https://localhost:8080/"
        },
        "id": "2I5OSbniou1b",
        "outputId": "a92d7373-6abe-4a64-c8a8-06dc097c3787"
      },
      "execution_count": null,
      "outputs": [
        {
          "output_type": "stream",
          "name": "stdout",
          "text": [
            "              precision    recall  f1-score   support\n",
            "\n",
            "           0       0.00      0.00      0.00         3\n",
            "           1       0.85      1.00      0.92        17\n",
            "\n",
            "    accuracy                           0.85        20\n",
            "   macro avg       0.42      0.50      0.46        20\n",
            "weighted avg       0.72      0.85      0.78        20\n",
            "\n"
          ]
        },
        {
          "output_type": "stream",
          "name": "stderr",
          "text": [
            "/usr/local/lib/python3.10/dist-packages/sklearn/metrics/_classification.py:1344: UndefinedMetricWarning: Precision and F-score are ill-defined and being set to 0.0 in labels with no predicted samples. Use `zero_division` parameter to control this behavior.\n",
            "  _warn_prf(average, modifier, msg_start, len(result))\n",
            "/usr/local/lib/python3.10/dist-packages/sklearn/metrics/_classification.py:1344: UndefinedMetricWarning: Precision and F-score are ill-defined and being set to 0.0 in labels with no predicted samples. Use `zero_division` parameter to control this behavior.\n",
            "  _warn_prf(average, modifier, msg_start, len(result))\n",
            "/usr/local/lib/python3.10/dist-packages/sklearn/metrics/_classification.py:1344: UndefinedMetricWarning: Precision and F-score are ill-defined and being set to 0.0 in labels with no predicted samples. Use `zero_division` parameter to control this behavior.\n",
            "  _warn_prf(average, modifier, msg_start, len(result))\n"
          ]
        }
      ]
    },
    {
      "cell_type": "code",
      "source": [
        "import pandas as pd\n",
        "from sklearn.metrics import accuracy_score, precision_score, recall_score, f1_score\n",
        "\n",
        "# Define the file path\n",
        "file_path = '/content/EDITED DATA SET - Sheet1.csv'\n",
        "\n",
        "# Load the dataset\n",
        "data = pd.read_csv(file_path)\n",
        "data.columns = [\"Patient_ID\", \"Category\", \"Age\", \"Gender\", \"State of Mind\", \"EMG Rest (µV)\", \"EMG Flexion (µV)\", \"EMG Extension (µV)\", \"EEG Rest (µV)\", \"EEG Flexion (µV)\", \"EEG Extension (µV)\", \"Time (s)\"]\n",
        "\n",
        "# Convert Category to numeric values: 1 for Pain, 0 for No Pain\n",
        "data['True_Label'] = data['Category'].apply(lambda x: 1 if x == 'Pain' else 0)\n",
        "\n",
        "# Function to classify pain status based on provided ranges\n",
        "def classify_pain_status(emg_rest, emg_flexion, emg_extension, eeg_rest, eeg_flexion, eeg_extension):\n",
        "    if (0.7501276039 <= emg_rest <= 1.501316884 and\n",
        "        0.997254081 <= emg_flexion <= 3.998466906 and\n",
        "        1.798109079 <= emg_extension <= 3.801380313 and\n",
        "        5.000450261 <= eeg_rest <= 50.18350703 and\n",
        "        60.04197402 <= eeg_flexion <= 86.95405508 and\n",
        "        69.82874585 <= eeg_extension <= 81.92500559):\n",
        "        return 1  # Pain\n",
        "    elif (0.497758633 <= emg_rest <= 0.501794274 and\n",
        "          0.8001190203 <= emg_flexion <= 1.999715615 and\n",
        "          0.798152212 <= emg_extension <= 0.803510512 and\n",
        "          2.02509753 <= eeg_rest <= 4.089443689 and\n",
        "          19.87502164 <= eeg_flexion <= 50.08350199 and\n",
        "          49.84258228 <= eeg_extension <= 50.17559819):\n",
        "        return 0  # No Pain\n",
        "    else:\n",
        "        return -1  # Check Values\n",
        "\n",
        "# Add predicted labels to the dataset\n",
        "data['Predicted_Label'] = data.apply(lambda row: classify_pain_status(row['EMG Rest (µV)'], row['EMG Flexion (µV)'], row['EMG Extension (µV)'], row['EEG Rest (µV)'], row['EEG Flexion (µV)'], row['EEG Extension (µV)']), axis=1)\n",
        "\n",
        "# Filter out rows with 'Check Values'\n",
        "valid_data = data[data['Predicted_Label'] != -1]\n",
        "\n",
        "# Calculate evaluation metrics\n",
        "accuracy = accuracy_score(valid_data['True_Label'], valid_data['Predicted_Label'])\n",
        "precision = precision_score(valid_data['True_Label'], valid_data['Predicted_Label'])\n",
        "recall = recall_score(valid_data['True_Label'], valid_data['Predicted_Label'])\n",
        "f1 = f1_score(valid_data['True_Label'], valid_data['Predicted_Label'])\n",
        "\n",
        "print(f'Precision = {precision}')\n",
        "print(f'Accuracy = {accuracy}')\n",
        "print(f'Recall = {recall}')\n",
        "print(f'F1 = {f1}')\n"
      ],
      "metadata": {
        "colab": {
          "base_uri": "https://localhost:8080/"
        },
        "id": "_3zcJ-PQE_yd",
        "outputId": "dd4a28e6-204a-4c9b-8287-d7b47559ddf9"
      },
      "execution_count": 6,
      "outputs": [
        {
          "output_type": "stream",
          "name": "stdout",
          "text": [
            "Precision = 0.8421052631578947\n",
            "Accuracy = 0.9142857142857143\n",
            "Recall = 1.0\n",
            "F1 = 0.9142857142857143\n"
          ]
        }
      ]
    }
  ]
}